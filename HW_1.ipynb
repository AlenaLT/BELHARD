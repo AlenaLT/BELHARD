{
  "nbformat": 4,
  "nbformat_minor": 0,
  "metadata": {
    "colab": {
      "provenance": [],
      "authorship_tag": "ABX9TyMUr2k0wqB6XcPM/1a3OVUS",
      "include_colab_link": true
    },
    "kernelspec": {
      "name": "python3",
      "display_name": "Python 3"
    },
    "language_info": {
      "name": "python"
    }
  },
  "cells": [
    {
      "cell_type": "markdown",
      "metadata": {
        "id": "view-in-github",
        "colab_type": "text"
      },
      "source": [
        "<a href=\"https://colab.research.google.com/github/AlenaLT/BELHARD/blob/main/HW_1.ipynb\" target=\"_parent\"><img src=\"https://colab.research.google.com/assets/colab-badge.svg\" alt=\"Open In Colab\"/></a>"
      ]
    },
    {
      "cell_type": "code",
      "execution_count": 11,
      "metadata": {
        "colab": {
          "base_uri": "https://localhost:8080/"
        },
        "id": "XYCn3JrORy-Q",
        "outputId": "d171d14c-0301-4d32-c38e-b08dbe6fbb41"
      },
      "outputs": [
        {
          "output_type": "stream",
          "name": "stdout",
          "text": [
            "dict_values(['yellow', 'green', 'violet', 'pink', 'red'])\n"
          ]
        }
      ],
      "source": [
        "\n",
        "fruits_and_colours = {\"lemon\" : \"yellow\", \"feijoa\" : \"green\", \"plum\" : \"violet\", \"pomegranate\" : \"pink\", \"apple\" : \"red\" }\n",
        "print(fruits_and_colours.values())\n"
      ]
    },
    {
      "cell_type": "markdown",
      "source": [
        "алгоритм имеет линейную сложность O(n)\n",
        ""
      ],
      "metadata": {
        "id": "4NnXEqA4i5RZ"
      }
    }
  ]
}